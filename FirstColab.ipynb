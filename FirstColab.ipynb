{
  "nbformat": 4,
  "nbformat_minor": 0,
  "metadata": {
    "colab": {
      "provenance": [],
      "authorship_tag": "ABX9TyOJw6kci4SXcQ9dFVz/UP0J",
      "include_colab_link": true
    },
    "kernelspec": {
      "name": "python3",
      "display_name": "Python 3"
    },
    "language_info": {
      "name": "python"
    }
  },
  "cells": [
    {
      "cell_type": "markdown",
      "metadata": {
        "id": "view-in-github",
        "colab_type": "text"
      },
      "source": [
        "<a href=\"https://colab.research.google.com/github/devfortified/avcolab/blob/main/FirstColab.ipynb\" target=\"_parent\"><img src=\"https://colab.research.google.com/assets/colab-badge.svg\" alt=\"Open In Colab\"/></a>"
      ]
    },
    {
      "cell_type": "code",
      "execution_count": 4,
      "metadata": {
        "colab": {
          "base_uri": "https://localhost:8080/"
        },
        "id": "ApKVMH6rea-F",
        "outputId": "e4f0c335-3f47-4d65-e9df-f3a0a6257ad3"
      },
      "outputs": [
        {
          "output_type": "stream",
          "name": "stdout",
          "text": [
            "Roll a dice\n",
            "2\n"
          ]
        }
      ],
      "source": [
        "import numpy as np\n",
        "msg=\"roll a dice\"\n",
        "print(msg.capitalize())\n",
        "\n",
        "diceresult = np.random.randint(1,9)\n",
        "print(diceresult)"
      ]
    },
    {
      "cell_type": "markdown",
      "source": [
        "Just adding some **text** cell to see the *capabilities*"
      ],
      "metadata": {
        "id": "XVQJ8S-_gIp_"
      }
    }
  ]
}